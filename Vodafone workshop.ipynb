{
 "cells": [
  {
   "cell_type": "code",
   "execution_count": 2,
   "id": "f57cb691",
   "metadata": {},
   "outputs": [
    {
     "data": {
      "text/html": [
       "<h1>Python </h1>\n"
      ],
      "text/plain": [
       "<IPython.core.display.HTML object>"
      ]
     },
     "metadata": {},
     "output_type": "display_data"
    }
   ],
   "source": [
    "%%HTML\n",
    "<h1>Python </h1>"
   ]
  },
  {
   "cell_type": "code",
   "execution_count": 3,
   "id": "5760cd82",
   "metadata": {},
   "outputs": [
    {
     "name": "stdout",
     "output_type": "stream",
     "text": [
      "What are you  learning?Python\n",
      "I am learning Python\n"
     ]
    }
   ],
   "source": [
    "#Input function\n",
    "sub = input(\"What are you  learning?\")\n",
    "print(f\"I am learning {sub}\")"
   ]
  },
  {
   "cell_type": "code",
   "execution_count": 13,
   "id": "dd5823b8",
   "metadata": {},
   "outputs": [
    {
     "name": "stdout",
     "output_type": "stream",
     "text": [
      "Weather \n",
      "How is the weather today?freeze\n",
      "Wrong input.\n"
     ]
    }
   ],
   "source": [
    "print(\"Weather \")\n",
    "a = input(\"How is the weather today?\")\n",
    "if a == \"Rainy\":\n",
    "    print(\"It is monsoon\")\n",
    "elif a==\"Summer\":\n",
    "    print(\"It is sunny\")\n",
    "elif a==\"Winter\":\n",
    "    print(\"It is cold\")\n",
    "else:\n",
    "    print(\"Wrong input.\")"
   ]
  },
  {
   "cell_type": "code",
   "execution_count": 33,
   "id": "db52c778",
   "metadata": {},
   "outputs": [
    {
     "name": "stdout",
     "output_type": "stream",
     "text": [
      "[50, 47, 44, 41, 38, 35, 32, 29, 26, 23, 20, 17, 14, 11, 8, 5]\n"
     ]
    }
   ],
   "source": [
    "#print(range(2,10,5))\n",
    "#print(range(3,10,19))\n",
    "print(list(range(50,2,-3)))\n",
    "\n",
    "\n"
   ]
  },
  {
   "cell_type": "code",
   "execution_count": null,
   "id": "f2d9e6d6",
   "metadata": {},
   "outputs": [],
   "source": [
    "import numpy as np\n"
   ]
  }
 ],
 "metadata": {
  "kernelspec": {
   "display_name": "Python 3",
   "language": "python",
   "name": "python3"
  },
  "language_info": {
   "codemirror_mode": {
    "name": "ipython",
    "version": 3
   },
   "file_extension": ".py",
   "mimetype": "text/x-python",
   "name": "python",
   "nbconvert_exporter": "python",
   "pygments_lexer": "ipython3",
   "version": "3.9.5"
  }
 },
 "nbformat": 4,
 "nbformat_minor": 5
}
