{
 "cells": [
  {
   "cell_type": "code",
   "execution_count": 1,
   "id": "d90313e9",
   "metadata": {},
   "outputs": [
    {
     "name": "stdout",
     "output_type": "stream",
     "text": [
      "Amey\n"
     ]
    }
   ],
   "source": [
    "print(\"Amey\")"
   ]
  },
  {
   "cell_type": "code",
   "execution_count": 2,
   "id": "cf2d0679",
   "metadata": {},
   "outputs": [
    {
     "name": "stdout",
     "output_type": "stream",
     "text": [
      "My name is Amey Joshi\n",
      "I am in V.I.T\n"
     ]
    }
   ],
   "source": [
    "print(\"My name is Amey Joshi\")\n",
    "print(\"I am in V.I.T\")\n"
   ]
  },
  {
   "cell_type": "code",
   "execution_count": null,
   "id": "70dc1080",
   "metadata": {},
   "outputs": [],
   "source": []
  }
 ],
 "metadata": {
  "kernelspec": {
   "display_name": "Python 3",
   "language": "python",
   "name": "python3"
  },
  "language_info": {
   "codemirror_mode": {
    "name": "ipython",
    "version": 3
   },
   "file_extension": ".py",
   "mimetype": "text/x-python",
   "name": "python",
   "nbconvert_exporter": "python",
   "pygments_lexer": "ipython3",
   "version": "3.9.5"
  }
 },
 "nbformat": 4,
 "nbformat_minor": 5
}
